{
  "nbformat": 4,
  "nbformat_minor": 0,
  "metadata": {
    "colab": {
      "provenance": []
    },
    "kernelspec": {
      "name": "python3",
      "display_name": "Python 3"
    },
    "language_info": {
      "name": "python"
    }
  },
  "cells": [
    {
      "cell_type": "code",
      "execution_count": null,
      "metadata": {
        "id": "Sz7tdwy85pVn"
      },
      "outputs": [],
      "source": [
        "# Downgrade pip to a version before the strict metadata check was enforced.\n",
        "# This will allow it to install hdmf-zarr despite its typo.\n",
        "!pip install 'pip<24.1'"
      ]
    }
  ]
}