{
  "nbformat": 4,
  "nbformat_minor": 0,
  "metadata": {
    "colab": {
      "provenance": []
    },
    "kernelspec": {
      "name": "python3",
      "display_name": "Python 3"
    },
    "language_info": {
      "name": "python"
    }
  },
  "cells": [
    {
      "cell_type": "code",
      "source": [
        "# NEEDS FIXING"
      ],
      "metadata": {
        "id": "V6TBLq1fXIF1"
      },
      "execution_count": null,
      "outputs": []
    },
    {
      "cell_type": "code",
      "source": [
        "!git clone https://github.com/mserhat1/NMA_Project.git\n",
        "import sys\n",
        "sys.path.append('/content/NMA_Project')"
      ],
      "metadata": {
        "id": "ZD8-dZQO_Jyi",
        "collapsed": true
      },
      "execution_count": null,
      "outputs": []
    },
    {
      "cell_type": "code",
      "source": [
        "%cd NMA_Project\n",
        "!pip install -r requirements.txt"
      ],
      "metadata": {
        "id": "2s10BfyWA1Pz",
        "collapsed": true
      },
      "execution_count": null,
      "outputs": []
    },
    {
      "cell_type": "code",
      "source": [
        "from functions.data import get_datafile, extract_neural_data, avg_across_epochs\n",
        "\n",
        "sbj = 1\n",
        "session = 3\n",
        "channel = 6\n",
        "pre_time = 2\n",
        "post_time = 1\n",
        "behavior = ['Computer/phone', 'Talk', 'Eat', 'TV']\n",
        "\n",
        "nwbfile = get_datafile(sbj=sbj, session=session)\n",
        "ecog_data = extract_neural_data(nwbfile, channel=channel, pre_time=pre_time, post_time=post_time, behavior=behavior)\n"
      ],
      "metadata": {
        "id": "DOSQn_5x8z8R"
      },
      "execution_count": null,
      "outputs": []
    },
    {
      "cell_type": "code",
      "source": [
        "from functions.plotting import plot_spectrogram\n",
        "\n",
        "# to be fixed\n",
        "plot_spectrogram(ecog_data, lower_freq=4, upper_freq=16, nperseg=64)"
      ],
      "metadata": {
        "id": "c1JJd8QwADtn"
      },
      "execution_count": null,
      "outputs": []
    }
  ]
}