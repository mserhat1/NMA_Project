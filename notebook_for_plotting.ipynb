{
  "nbformat": 4,
  "nbformat_minor": 0,
  "metadata": {
    "colab": {
      "provenance": []
    },
    "kernelspec": {
      "name": "python3",
      "display_name": "Python 3"
    },
    "language_info": {
      "name": "python"
    }
  },
  "cells": [
    {
      "cell_type": "code",
      "source": [
        "!git clone https://github.com/mserhat1/NMA_Project.git\n",
        "import sys\n",
        "sys.path.append('/content/NMA_Project')"
      ],
      "metadata": {
        "id": "ZD8-dZQO_Jyi"
      },
      "execution_count": null,
      "outputs": []
    },
    {
      "cell_type": "code",
      "source": [
        "%cd NMA_Project\n",
        "!pip install -r requirements.txt"
      ],
      "metadata": {
        "id": "2s10BfyWA1Pz"
      },
      "execution_count": null,
      "outputs": []
    },
    {
      "cell_type": "code",
      "source": [
        "from functions.data import get_datafile, extract_neural_data, avg_across_epochs\n",
        "\n",
        "nwbfile = get_datafile(sbj=1, session=3)\n",
        "ecog_data = extract_neural_data(nwbfile, channel=6, pre_time=2, post_time=1, behavior=['Computer/phone', 'Talk', 'Eat', 'TV'])\n",
        "ecog_data = avg_across_epochs(ecog_data)\n"
      ],
      "metadata": {
        "id": "DOSQn_5x8z8R"
      },
      "execution_count": null,
      "outputs": []
    },
    {
      "cell_type": "code",
      "source": [
        "from functions.plotting import psd_welch, plot_spectrogram\n",
        "\n",
        "plot_spectrogram(ecog_data, lower_freq=4, upper_freq=16)"
      ],
      "metadata": {
        "id": "c1JJd8QwADtn"
      },
      "execution_count": null,
      "outputs": []
    }
  ]
}
